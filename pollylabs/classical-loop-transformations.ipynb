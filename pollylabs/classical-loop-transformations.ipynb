{
 "cells": [
  {
   "cell_type": "code",
   "execution_count": 1,
   "id": "1770fee2-d238-4776-bc5d-aabae71f33fc",
   "metadata": {},
   "outputs": [],
   "source": [
    "import islpy as isl\n",
    "from islplot_support import get_set_list, get_umap_list, plot_usets, plot_umaps, print_before_after\n",
    "from latex_op import display_latex, print_latex"
   ]
  },
  {
   "cell_type": "markdown",
   "id": "39adfcfd",
   "metadata": {},
   "source": [
    "# Classical Loop Transformations"
   ]
  },
  {
   "cell_type": "markdown",
   "id": "0fbf1810",
   "metadata": {},
   "source": [
    "### Setup AST generation infrastructure"
   ]
  },
  {
   "cell_type": "code",
   "execution_count": 8,
   "id": "86780746",
   "metadata": {},
   "outputs": [],
   "source": [
    "def print_before_after(domain, schedule_original, schedule_new):\n",
    "    context = isl.Set(\"{ : }\")\n",
    "    build = isl.AstBuild.from_context(context)\n",
    "    schedule_original = schedule_original.intersect_domain(domain)\n",
    "    schedule_new = schedule_new.intersect_domain(domain)\n",
    "    print(\"<b>Before Transform:</b>\")\n",
    "    ast = build.node_from_schedule_map(schedule_original)\n",
    "    print(ast)\n",
    "    print(\"<b>After Transform:</b>\")\n",
    "    ast = build.node_from_schedule_map(schedule_new)\n",
    "    print(ast)"
   ]
  },
  {
   "cell_type": "markdown",
   "id": "a87f144c",
   "metadata": {},
   "source": [
    "## Loop Reversal\n",
    "\n",
    "Loop reversal changes the direction in which elements of a loop are visited. After loop reversal, the previous first loop iteration is executed last and the previous last loop iteration is executed first.\n",
    "\n",
    "**Benefits**:\n",
    "- Can be used to shorten dependences"
   ]
  },
  {
   "cell_type": "code",
   "execution_count": 9,
   "id": "c3be8361",
   "metadata": {},
   "outputs": [
    {
     "name": "stdout",
     "output_type": "stream",
     "text": [
      "<b>Before Transform:</b>\n",
      "{ iterator: { id: c0 }, init: { val: 0 }, cond: { op: lt, args: [ { id: c0 }, { id: n } ] }, inc: { val: 1 }, body: { user: { op: call, args: [ { id: S }, { id: c0 } ] } } }\n",
      "<b>After Transform:</b>\n",
      "{ iterator: { id: c0 }, init: { op: add, args: [ { op: minus, args: [ { id: n } ] }, { val: 1 } ] }, cond: { op: le, args: [ { id: c0 }, { val: 0 } ] }, inc: { val: 1 }, body: { user: { op: call, args: [ { id: S }, { op: minus, args: [ { id: c0 } ] } ] } } }\n"
     ]
    }
   ],
   "source": [
    "domain = isl.UnionSet(\"[n] -> {S[i] : 0 <= i < n}\")\n",
    "original = isl.UnionMap(\"{S[i] -> [i]}\")\n",
    "transformation = isl.UnionMap(\"{[i] -> [-i]}\")\n",
    "\n",
    "transformed = original.apply_range(transformation)\n",
    "print_before_after(domain, original, transformed)"
   ]
  },
  {
   "cell_type": "markdown",
   "id": "42d89745",
   "metadata": {},
   "source": [
    "# Loop Fusion\n",
    "\n",
    "After Loop fusion two statements that have previously been enumerated by different loops are\n",
    "now enumerated by a single loop.\n",
    "\n",
    "**Benefits:**\n",
    "  - Improves data-locality\n"
   ]
  },
  {
   "cell_type": "code",
   "execution_count": 10,
   "id": "4124c97e",
   "metadata": {},
   "outputs": [
    {
     "name": "stdout",
     "output_type": "stream",
     "text": [
      "<b>Before Transform:</b>\n",
      "[ { iterator: { id: c1 }, init: { val: 0 }, cond: { op: le, args: [ { id: c1 }, { id: n } ] }, inc: { val: 1 }, body: { user: { op: call, args: [ { id: S }, { id: c1 } ] } } }, { iterator: { id: c1 }, init: { val: 0 }, cond: { op: le, args: [ { id: c1 }, { id: n } ] }, inc: { val: 1 }, body: { user: { op: call, args: [ { id: T }, { id: c1 } ] } } } ]\n",
      "<b>After Transform:</b>\n",
      "{ iterator: { id: c0 }, init: { val: 0 }, cond: { op: le, args: [ { id: c0 }, { id: n } ] }, inc: { val: 1 }, body: [ { user: { op: call, args: [ { id: S }, { id: c0 } ] } }, { user: { op: call, args: [ { id: T }, { id: c0 } ] } } ] }\n"
     ]
    }
   ],
   "source": [
    "domain = isl.UnionSet(\"[n] -> {S[i] : 0 <= i <= n; T[i] : 0 <= i <= n}\")\n",
    "original = isl.UnionMap(\"{S[i] -> [0, i]; T[i] -> [1, i]}\")\n",
    "transformation = isl.UnionMap(\"{[0, i] -> [i,0]; [1, i] -> [i, 1]}\")\n",
    "transformed = original.apply_range(transformation)\n",
    "print_before_after(domain, original, transformed)"
   ]
  },
  {
   "cell_type": "markdown",
   "id": "0fb30792",
   "metadata": {},
   "source": [
    "# Loop Fission (Loop Distribution)\n",
    "\n",
    "Loop fission takes two statements that have been originally executed in the same\n",
    "loop and distributes them to two separate loops.\n",
    "\n",
    "**Benefits:**\n",
    " - Reduces register pressure\n",
    " - Enables other transformations, i.e. SIMDization in case only one of\n",
    "   the two statements in a loop body allows for parallel execution."
   ]
  },
  {
   "cell_type": "code",
   "execution_count": 11,
   "id": "ca590fc0",
   "metadata": {},
   "outputs": [
    {
     "name": "stdout",
     "output_type": "stream",
     "text": [
      "<b>Before Transform:</b>\n",
      "{ iterator: { id: c0 }, init: { val: 0 }, cond: { op: le, args: [ { id: c0 }, { id: n } ] }, inc: { val: 1 }, body: [ { user: { op: call, args: [ { id: S }, { id: c0 } ] } }, { user: { op: call, args: [ { id: T }, { id: c0 } ] } } ] }\n",
      "<b>After Transform:</b>\n",
      "[ { iterator: { id: c1 }, init: { val: 0 }, cond: { op: le, args: [ { id: c1 }, { id: n } ] }, inc: { val: 1 }, body: { user: { op: call, args: [ { id: S }, { id: c1 } ] } } }, { iterator: { id: c1 }, init: { val: 0 }, cond: { op: le, args: [ { id: c1 }, { id: n } ] }, inc: { val: 1 }, body: { user: { op: call, args: [ { id: T }, { id: c1 } ] } } } ]\n"
     ]
    }
   ],
   "source": [
    "domain = isl.UnionSet(\"[n] -> {S[i] : 0 <= i <= n; T[i] : 0 <= i <= n}\")\n",
    "original = isl.UnionMap(\"{S[i] -> [i, 0]; T[i] -> [i, 1]}\")\n",
    "transformation = isl.UnionMap(\"{[i, 0] -> [0, i]; [i, 1] -> [1, i]}\")\n",
    "\n",
    "transformed = original.apply_range(transformation)\n",
    "print_before_after(domain, original, transformed)"
   ]
  },
  {
   "cell_type": "markdown",
   "id": "8bd403e7",
   "metadata": {},
   "source": [
    "# Loop Interchange"
   ]
  },
  {
   "cell_type": "code",
   "execution_count": 12,
   "id": "afdf28de",
   "metadata": {},
   "outputs": [
    {
     "name": "stdout",
     "output_type": "stream",
     "text": [
      "<b>Before Transform:</b>\n",
      "{ iterator: { id: c0 }, init: { val: 0 }, cond: { op: le, args: [ { id: c0 }, { id: n } ] }, inc: { val: 1 }, body: { iterator: { id: c1 }, init: { val: 0 }, cond: { op: le, args: [ { id: c1 }, { id: m } ] }, inc: { val: 1 }, body: { user: { op: call, args: [ { id: S }, { id: c0 }, { id: c1 } ] } } } }\n",
      "<b>After Transform:</b>\n",
      "{ iterator: { id: c0 }, init: { val: 0 }, cond: { op: le, args: [ { id: c0 }, { id: m } ] }, inc: { val: 1 }, body: { iterator: { id: c1 }, init: { val: 0 }, cond: { op: le, args: [ { id: c1 }, { id: n } ] }, inc: { val: 1 }, body: { user: { op: call, args: [ { id: S }, { id: c1 }, { id: c0 } ] } } } }\n"
     ]
    }
   ],
   "source": [
    "domain = isl.UnionSet(\"[n,m] -> {S[i,j] : 0 <= i <= n and 0 <= j <= m }\")\n",
    "original = isl.UnionMap(\"{S[i,j] -> [i, j]}\")\n",
    "transformation = isl.UnionMap(\"{[i, j] -> [j, i]}\")\n",
    "\n",
    "transformed = original.apply_range(transformation)\n",
    "print_before_after(domain, original, transformed)"
   ]
  },
  {
   "cell_type": "markdown",
   "id": "add6f612",
   "metadata": {},
   "source": [
    "# Strip Mining\n",
    "\n",
    "Strip mining partitions a single loop into chunks that are enumerated by two loops.\n",
    "An outer loop enumerates the individual blocks, whereas the inner loop enumerates\n",
    "the individual iterations that belong to each block.\n",
    "\n",
    "**Benefits:**\n",
    " - Building block for loop tiling and unroll-and-jam."
   ]
  },
  {
   "cell_type": "code",
   "execution_count": 13,
   "id": "ff2f90cc",
   "metadata": {},
   "outputs": [
    {
     "name": "stdout",
     "output_type": "stream",
     "text": [
      "<b>Before Transform:</b>\n",
      "{ iterator: { id: c0 }, init: { val: 0 }, cond: { op: le, args: [ { id: c0 }, { val: 1023 } ] }, inc: { val: 1 }, body: { user: { op: call, args: [ { id: S }, { id: c0 } ] } } }\n",
      "<b>After Transform:</b>\n",
      "{ iterator: { id: c0 }, init: { val: 0 }, cond: { op: le, args: [ { id: c0 }, { val: 255 } ] }, inc: { val: 1 }, body: { iterator: { id: c1 }, init: { val: 0 }, cond: { op: le, args: [ { id: c1 }, { val: 3 } ] }, inc: { val: 1 }, body: { user: { op: call, args: [ { id: S }, { op: add, args: [ { op: mul, args: [ { val: 4 }, { id: c0 } ] }, { id: c1 } ] } ] } } } }\n"
     ]
    }
   ],
   "source": [
    "domain = isl.UnionSet(\"{S[i] : 0 <= i < 1024 }\")\n",
    "original = isl.UnionMap(\"{S[i] -> [i]}\")\n",
    "transformation = isl.UnionMap(\"{[i] -> [floor(i/4), i % 4]}\")\n",
    "\n",
    "transformed = original.apply_range(transformation)\n",
    "print_before_after(domain, original, transformed)"
   ]
  },
  {
   "cell_type": "markdown",
   "id": "10516a1d",
   "metadata": {},
   "source": [
    "# Loop Tiling\n",
    "\n",
    "Loop tiling partitions the execution of a multi-dimensional loop into groups, the tiles.\n",
    "First a set of outer loops enumerate all tiles that must be executed and for each tile\n",
    "a set of inner loops, the point loops, enumerates the individual points of the tile.\n",
    "\n",
    "**Benefits:**\n",
    " - Increased data-locality\n",
    " - More coarse-grained parallelism"
   ]
  },
  {
   "cell_type": "code",
   "execution_count": 14,
   "id": "b37d8cb6",
   "metadata": {},
   "outputs": [
    {
     "name": "stdout",
     "output_type": "stream",
     "text": [
      "<b>Before Transform:</b>\n",
      "{ iterator: { id: c0 }, init: { val: 0 }, cond: { op: le, args: [ { id: c0 }, { val: 1023 } ] }, inc: { val: 1 }, body: { iterator: { id: c1 }, init: { val: 0 }, cond: { op: le, args: [ { id: c1 }, { val: 1023 } ] }, inc: { val: 1 }, body: { user: { op: call, args: [ { id: S }, { id: c0 }, { id: c1 } ] } } } }\n",
      "<b>After Transform:</b>\n",
      "{ iterator: { id: c0 }, init: { val: 0 }, cond: { op: le, args: [ { id: c0 }, { val: 255 } ] }, inc: { val: 1 }, body: { iterator: { id: c1 }, init: { val: 0 }, cond: { op: le, args: [ { id: c1 }, { val: 3 } ] }, inc: { val: 1 }, body: { iterator: { id: c2 }, init: { val: 0 }, cond: { op: le, args: [ { id: c2 }, { val: 255 } ] }, inc: { val: 1 }, body: { iterator: { id: c3 }, init: { val: 0 }, cond: { op: le, args: [ { id: c3 }, { val: 3 } ] }, inc: { val: 1 }, body: { user: { op: call, args: [ { id: S }, { op: add, args: [ { op: mul, args: [ { val: 4 }, { id: c0 } ] }, { id: c1 } ] }, { op: add, args: [ { op: mul, args: [ { val: 4 }, { id: c2 } ] }, { id: c3 } ] } ] } } } } } }\n"
     ]
    }
   ],
   "source": [
    "domain = isl.UnionSet(\"{S[i,j] : 0 <= i,j < 1024 }\")\n",
    "original = isl.UnionMap(\"{S[i,j] -> [i,j]}\")\n",
    "transformation = isl.UnionMap(\"{[i,j] -> [floor(i/4), i % 4, floor(j/4), j % 4]}\")\n",
    "\n",
    "transformed = original.apply_range(transformation)\n",
    "print_before_after(domain, original, transformed)"
   ]
  },
  {
   "cell_type": "markdown",
   "id": "e4649472",
   "metadata": {},
   "source": [
    "# Unroll-and-jam\n",
    "\n",
    "Unroll-and-jam is a combination of strip-mining of the outer loop into a\n",
    "tile and point loop and then an interchange of the new point loop with\n",
    "the innermost loop dimension.\n",
    "\n",
    "**Benefits:**\n",
    " - Enables outer loop vectorization"
   ]
  },
  {
   "cell_type": "code",
   "execution_count": 15,
   "id": "76d1e1b9",
   "metadata": {},
   "outputs": [
    {
     "name": "stdout",
     "output_type": "stream",
     "text": [
      "<b>Before Transform:</b>\n",
      "{ iterator: { id: c0 }, init: { val: 0 }, cond: { op: le, args: [ { id: c0 }, { val: 1023 } ] }, inc: { val: 1 }, body: { iterator: { id: c1 }, init: { val: 0 }, cond: { op: le, args: [ { id: c1 }, { val: 1023 } ] }, inc: { val: 1 }, body: { user: { op: call, args: [ { id: S }, { id: c0 }, { id: c1 } ] } } } }\n",
      "<b>After Transform:</b>\n",
      "{ iterator: { id: c0 }, init: { val: 0 }, cond: { op: le, args: [ { id: c0 }, { val: 255 } ] }, inc: { val: 1 }, body: { iterator: { id: c1 }, init: { val: 0 }, cond: { op: le, args: [ { id: c1 }, { val: 1023 } ] }, inc: { val: 1 }, body: { iterator: { id: c2 }, init: { val: 0 }, cond: { op: le, args: [ { id: c2 }, { val: 3 } ] }, inc: { val: 1 }, body: { user: { op: call, args: [ { id: S }, { op: add, args: [ { op: mul, args: [ { val: 4 }, { id: c0 } ] }, { id: c2 } ] }, { id: c1 } ] } } } } }\n"
     ]
    }
   ],
   "source": [
    "domain = isl.UnionSet(\"{S[i,j] : 0 <= i,j < 1024 }\")\n",
    "original = isl.UnionMap(\"{S[i,j] -> [i,j]}\")\n",
    "transformation = isl.UnionMap(\"{[i,j] -> [floor(i/4), j, i % 4] }\")\n",
    "\n",
    "transformed = original.apply_range(transformation)\n",
    "print_before_after(domain, original, transformed)"
   ]
  },
  {
   "cell_type": "markdown",
   "id": "a1bbca77",
   "metadata": {},
   "source": [
    "# Skewing\n"
   ]
  },
  {
   "cell_type": "code",
   "execution_count": 17,
   "id": "b715bd5d",
   "metadata": {},
   "outputs": [
    {
     "name": "stdout",
     "output_type": "stream",
     "text": [
      "<b>Before Transform:</b>\n",
      "{ iterator: { id: c0 }, init: { val: 0 }, cond: { op: lt, args: [ { id: c0 }, { id: n } ] }, inc: { val: 1 }, body: { iterator: { id: c1 }, init: { val: 0 }, cond: { op: lt, args: [ { id: c1 }, { id: n } ] }, inc: { val: 1 }, body: { user: { op: call, args: [ { id: S }, { id: c0 }, { id: c1 } ] } } } }\n",
      "<b>After Transform:</b>\n",
      "{ iterator: { id: c0 }, init: { val: 0 }, cond: { op: lt, args: [ { id: c0 }, { id: n } ] }, inc: { val: 1 }, body: { iterator: { id: c1 }, init: { id: c0 }, cond: { op: lt, args: [ { id: c1 }, { op: add, args: [ { id: n }, { id: c0 } ] } ] }, inc: { val: 1 }, body: { user: { op: call, args: [ { id: S }, { id: c0 }, { op: add, args: [ { op: minus, args: [ { id: c0 } ] }, { id: c1 } ] } ] } } } }\n"
     ]
    }
   ],
   "source": [
    "domain = isl.UnionSet(\"[n] -> {S[i,j] : 0 <= i,j < n }\")\n",
    "original = isl.UnionMap(\"{S[i,j] -> [i,j]}\")\n",
    "transformation = isl.UnionMap(\"{[i,j] -> [i, i + j]}\")\n",
    "\n",
    "transformed = original.apply_range(transformation)\n",
    "print_before_after(domain, original, transformed)"
   ]
  }
 ],
 "metadata": {
  "kernelspec": {
   "display_name": "Python 3 (ipykernel)",
   "language": "python",
   "name": "python3"
  },
  "language_info": {
   "codemirror_mode": {
    "name": "ipython",
    "version": 3
   },
   "file_extension": ".py",
   "mimetype": "text/x-python",
   "name": "python",
   "nbconvert_exporter": "python",
   "pygments_lexer": "ipython3",
   "version": "3.10.6"
  }
 },
 "nbformat": 4,
 "nbformat_minor": 5
}
