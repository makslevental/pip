{
 "cells": [
  {
   "cell_type": "code",
   "execution_count": 1,
   "id": "85ebc7ba-92ef-4ebb-95a3-461471ab8183",
   "metadata": {},
   "outputs": [],
   "source": [
    "import islpy as isl\n",
    "from latex_op import display_latex\n",
    "from islplot_support import plot_uset, plot_umap"
   ]
  },
  {
   "cell_type": "markdown",
   "id": "422159bc",
   "metadata": {},
   "source": [
    "# Polyhedral Representation"
   ]
  },
  {
   "cell_type": "markdown",
   "id": "29d89687-cc22-4d53-801e-df8e4a13b7d3",
   "metadata": {},
   "source": [
    "```c\n",
    "const int N = 10;\n",
    "double X[N], Y[N], Z[2*N];\n",
    "\n",
    "for (int i = 0; i <= 2*N; ++i)\n",
    "    S:  Z[i] = 0.0;\n",
    "for (int i = 1; i <= N; ++i)\n",
    "    for (int j = i; j <= N; ++j)\n",
    "    T:  Z[i + j] += A[i] * B[j];\n",
    "```"
   ]
  },
  {
   "cell_type": "markdown",
   "id": "cd66bff7-b559-427f-8181-e834d823cf08",
   "metadata": {},
   "source": [
    "to"
   ]
  },
  {
   "cell_type": "code",
   "execution_count": 2,
   "id": "0fdead97-f4fa-4c05-afb6-afd315775fec",
   "metadata": {},
   "outputs": [
    {
     "data": {
      "text/latex": [
       "$\\displaystyle \\begin{array}{l}\\{\\, \\mathrm{T}(i, j) \\mid i > 0 \\wedge i \\le j \\le 9 \\,\\} \\cup\\\\\\quad \\{\\, \\mathrm{S}(i, 0) \\mid 0 < i \\le 20 \\,\\}\\\\\\end{array}$"
      ],
      "text/plain": [
       "<IPython.core.display.Math object>"
      ]
     },
     "metadata": {},
     "output_type": "display_data"
    }
   ],
   "source": [
    "uset = isl.UnionSet(\"{T[i,j] : 0 < i <= j < 10; S[i,0] : 0 < i <= 20}\")\n",
    "display_latex(uset)"
   ]
  },
  {
   "cell_type": "code",
   "execution_count": 3,
   "id": "e6118453-c658-42d7-8a1f-fe5149d8b93a",
   "metadata": {},
   "outputs": [
    {
     "data": {
      "image/png": "[encoded data removed]",
      "text/plain": [
       "<Figure size 640x480 with 1 Axes>"
      ]
     },
     "metadata": {},
     "output_type": "display_data"
    }
   ],
   "source": [
    "plot_uset(uset)"
   ]
  },
  {
   "cell_type": "markdown",
   "id": "9090a75e",
   "metadata": {},
   "source": [
    "## Statement instances\n",
    "\n",
    "Consider the following code fragment that computes a product of polynomials.\n",
    "Each of the polynomials is represented by an array of its coefficients.\n",
    "\n",
    "```c\n",
    "const int N = 100;\n",
    "double X[N], Y[N], Z[2*N];\n",
    "\n",
    "for (int i = 0; i <= 2*N; ++i)\n",
    "S:  Z[i] = 0.;\n",
    "for (int i = 0; i <= N; ++i)\n",
    "    for (int j = 0; j <= N; ++j)\n",
    "T:      Z[i + j] += A[i] * B[j];\n",
    "```\n",
    "\n",
    "We will use labels to refer to statements.\n",
    "Statement `S` initializes the elements of `Z` array and the `T` statement computes them.\n",
    "Statement `S` is enclosed in a loop and is thus executed \\\\((2\\mathtt{N} + 1)\\\\) times in the\n",
    "following order.\n",
    "\n",
    "* `Z[0] = 0.; /* i = 0 */`\n",
    "* `Z[1] = 0.; /* i = 1 */`\n",
    "* ...\n",
    "* `Z[2*N] = 0. /* i = 2*N */;`\n",
    "\n",
    "We refer to individual executions of a statement inside a loop as *statement instances*.\n",
    "An instance can be identified by a statement label and the value of the iterator of the enclosing loop,\n",
    "for example:\n",
    "    \n",
    "* $\\mathtt{S}(0)$\n",
    "* $\\mathtt{S}(1)$\n",
    "* ...\n",
    "* $\\mathtt{S}(2 \\mathtt{N})$\n",
    "\n",
    "If a statement is enclosed in multiple loops, its instances are identified by values of all iterators\n",
    "in order of their nesting.\n",
    "For example, statement `T` will have, among others, the instances\n",
    "\n",
    "* $\\mathtt{T}(0,0)$ for `Z[0] += A[0] * B[0] /* i = 0, j = 0 */`,\n",
    "* $\\mathtt{T}(0,1)$ for `Z[1] += A[0] * B[1] /* i = 0, j = 1 */`,\n",
    "* ...\n",
    "* $\\mathtt{T}(\\mathtt{N},\\mathtt{N})$ for `Z[2*N] += A[N] * B[N] /* i = N, j = N */`."
   ]
  },
  {
   "cell_type": "markdown",
   "id": "d6b9b66a",
   "metadata": {},
   "source": [
    "## Iteration domain\n",
    "The set of all instances of a statement is referred to as *(iteration) domain* of a statement.\n",
    "Iteration domains can be expressed using the set-builder notation.\n",
    "For example, \n",
    "\n",
    "$$\n",
    "\\mathcal{D}_\\mathtt{S} = \\{ \\mathtt{S}[i] : 0 \\leq i \\leq \\mathtt{N} \\}\n",
    "$$\n",
    "\n",
    "The expression $0 \\leq i \\leq \\mathtt{N}$ comes directly from the loop lower (`i=0`) and upper (`i<=N`) bounds.\n",
    "The loop iterates for $i$ ranging from 0 to $\\mathtt{N}$ inclusive.\n",
    "\n",
    "The set we defined is *named*, i.e. the statement name $\\mathtt{S}$ is mentioned before the\n",
    "list of loop iterator names.\n",
    "Note that $\\mathtt{N}$ here is treated as a symbolic constant.\n",
    "In the context of the polyhedal model, such symbolic constants are referred to as *(structure) parameters*.\n",
    "Parameters are explicitly mentioned in the set description,\n",
    "$$\n",
    "\\mathcal{D}_\\mathtt{S} = [N] \\rightarrow \\{ \\mathtt{S}[i] : 0 \\leq i \\leq N \\}\n",
    "$$\n",
    "essentially turning it into a map from the parameter value to a concrete instance of a domain set.\n",
    "Such parametric sets can be defined in *isl* as follows."
   ]
  },
  {
   "cell_type": "code",
   "execution_count": 4,
   "id": "62af1a2e",
   "metadata": {},
   "outputs": [
    {
     "data": {
      "text/latex": [
       "$\\displaystyle N \\to \\{\\, \\mathrm{S}(i) \\mid 0 \\le i \\le N \\,\\}$"
      ],
      "text/plain": [
       "<IPython.core.display.Math object>"
      ]
     },
     "metadata": {},
     "output_type": "display_data"
    }
   ],
   "source": [
    "D_S = isl.Set(\"[N] -> {S[i]: 0 <= i <= N}\")\n",
    "display_latex(D_S)"
   ]
  },
  {
   "cell_type": "markdown",
   "id": "7d572151",
   "metadata": {},
   "source": [
    "\n",
    "Similarly, we can define the iteration domain of the statement `T`,\n",
    "$$\n",
    "\\mathcal{D}_\\mathcal{T} = [N] \\rightarrow \\{ \\mathtt{T}(i,j) : 0 \\leq i,j \\leq N \\}\n",
    "$$\n",
    "\n",
    "This domain is defined as a set of two-dimensional vectors.\n",
    "Each component of a vector corresponds to an enclosing loop, in nesting order.\n",
    "\n",
    "### Question\n",
    "Define the variable `D_T` so that it contains the iteration domain of `T` using *isl* notation, then print it."
   ]
  },
  {
   "cell_type": "code",
   "execution_count": 5,
   "id": "362e909f",
   "metadata": {},
   "outputs": [
    {
     "data": {
      "text/latex": [
       "$\\displaystyle N \\to \\{\\, \\mathrm{T}(i, j) \\mid 0 \\le i \\le N \\wedge 0 \\le j \\le N \\,\\}$"
      ],
      "text/plain": [
       "<IPython.core.display.Math object>"
      ]
     },
     "metadata": {},
     "output_type": "display_data"
    }
   ],
   "source": [
    "#!Solution\n",
    "D_T = isl.Set(\"[N] -> {T[i,j]: 0 <= i,j <= N}\")\n",
    "display_latex(D_T)"
   ]
  },
  {
   "cell_type": "markdown",
   "id": "d7137594",
   "metadata": {},
   "source": [
    "As you may see, *isl* output uses conjunction (logical *and*) to combine inequalities around different iterators.\n",
    "This can be handy if the loop bounds differ.  Use `and` in *isl* syntax to express conjunction.\n",
    "\n",
    "### Question\n",
    "Re-define `D_T` using `and` operator to separate bounds on `i` and `j`."
   ]
  },
  {
   "cell_type": "code",
   "execution_count": 6,
   "id": "770da072",
   "metadata": {},
   "outputs": [
    {
     "data": {
      "text/latex": [
       "$\\displaystyle N \\to \\{\\, \\mathrm{T}(i, j) \\mid 0 \\le i \\le N \\wedge 0 \\le j \\le N \\,\\}$"
      ],
      "text/plain": [
       "<IPython.core.display.Math object>"
      ]
     },
     "metadata": {},
     "output_type": "display_data"
    }
   ],
   "source": [
    "#!Solution\n",
    "D_T = isl.Set(\"[N] -> {T[i,j]: 0 <= i <= N and 0 <= j <= N}\")\n",
    "display_latex(D_T)"
   ]
  },
  {
   "cell_type": "markdown",
   "id": "69c732b9",
   "metadata": {},
   "source": [
    "If you already have an *isl* set, you can print it to see the expected syntax."
   ]
  },
  {
   "cell_type": "code",
   "execution_count": 7,
   "id": "e1ced71c",
   "metadata": {},
   "outputs": [
    {
     "name": "stdout",
     "output_type": "stream",
     "text": [
      "[N] -> { S[i] : 0 <= i <= N }\n"
     ]
    }
   ],
   "source": [
    "print(D_S)"
   ]
  },
  {
   "cell_type": "markdown",
   "id": "b71bb714",
   "metadata": {},
   "source": [
    "### Question\n",
    "Print `D_T` and see whether the output corresponds to your definition."
   ]
  },
  {
   "cell_type": "code",
   "execution_count": 8,
   "id": "060d10c7",
   "metadata": {},
   "outputs": [
    {
     "name": "stdout",
     "output_type": "stream",
     "text": [
      "[N] -> { T[i, j] : 0 <= i <= N and 0 <= j <= N }\n"
     ]
    }
   ],
   "source": [
    "#!Solution\n",
    "print(D_T)"
   ]
  },
  {
   "cell_type": "markdown",
   "id": "d1bfe781",
   "metadata": {},
   "source": [
    "Note that the output does not necessarily reproduce the textual form of the input.\n",
    "Rather, it represents the same set after simplification.\n",
    "In particular, redundant inequalities are eliminated and components that appear in first positions are expressed using simpler equations.\n",
    "Here is an example of the simplification result."
   ]
  },
  {
   "cell_type": "code",
   "execution_count": 9,
   "id": "a2ab23fd",
   "metadata": {},
   "outputs": [
    {
     "name": "stdout",
     "output_type": "stream",
     "text": [
      "{ [i, j] : i >= 0 and j > 0 and j >= -i }\n"
     ]
    }
   ],
   "source": [
    "print(isl.Set(\"{[i,j]: i+j >= 0 and i >= 0 and j > 0 and j >= 1}\"))"
   ]
  },
  {
   "cell_type": "markdown",
   "id": "811feb50",
   "metadata": {},
   "source": [
    "## Handling Non-Unit Strides\n",
    "Consider now the following code snippet that negates every odd element in the array.\n",
    "```c\n",
    "const int N;\n",
    "double A[2*N];\n",
    "\n",
    "for (int i = 1; i < 2*N; i += 2)\n",
    "R:  A[i] = -A[i];\n",
    "```\n",
    "If `A` stores real and imaginary parts of complex numbers, one after other, this operation computes a complex conjugate.\n",
    "\n",
    "The iteration domain of `R` should now be restricted to odd values of `i`.\n",
    "This can be achieved using a modulo operator\n",
    "$$\n",
    "\\mathcal{D}_\\mathtt{R}: [N] \\rightarrow \\{ [i] : 0 \\leq i < N \\wedge i\\mod 2 = 1 \\} \n",
    "$$\n",
    "which can be translated directly into *isl* syntax."
   ]
  },
  {
   "cell_type": "code",
   "execution_count": 10,
   "id": "1d1828bd",
   "metadata": {},
   "outputs": [
    {
     "data": {
      "text/latex": [
       "$\\displaystyle N \\to \\{\\, \\mathrm{R}(i) \\mid (1 + i) \\bmod 2 = 0 \\wedge 0 \\le i < 2N \\,\\}$"
      ],
      "text/plain": [
       "<IPython.core.display.Math object>"
      ]
     },
     "metadata": {},
     "output_type": "display_data"
    }
   ],
   "source": [
    "D_R = isl.Set(\"[N] -> {R[i]: i mod 2 = 1 and 0 <= i < 2 N}\")\n",
    "display_latex(D_R)"
   ]
  },
  {
   "cell_type": "markdown",
   "id": "61be3a4d",
   "metadata": {},
   "source": [
    "As you may see, *isl* transforms the modulo operation into division with floor rounding.\n",
    "This transformation is a combination of two properties of the modulo operation\n",
    "\n",
    "$ a \\mod b = c \\Leftrightarrow (a + c) \\mod b = 0 $\n",
    "\n",
    "$ a \\mod b \\equiv a - b \\lfloor a/b \\rfloor $"
   ]
  },
  {
   "cell_type": "markdown",
   "id": "eb12aa21",
   "metadata": {},
   "source": [
    "### Question\n",
    "Define the set representing the iteration domain of `Q` in the following code, then print it\n",
    "```c\n",
    "const int N;\n",
    "double A[2*N];\n",
    "\n",
    "for (int i = 1; i < 2*N; i += 2)\n",
    "Q:  A[i] = -A[i];\n",
    "```"
   ]
  },
  {
   "cell_type": "code",
   "execution_count": 11,
   "id": "844d820e",
   "metadata": {},
   "outputs": [
    {
     "data": {
      "text/latex": [
       "$\\displaystyle N \\to \\{\\, \\mathrm{Q}(i) \\mid (i) \\bmod 2 = 0 \\wedge 0 \\le i < N \\,\\}$"
      ],
      "text/plain": [
       "<IPython.core.display.Math object>"
      ]
     },
     "metadata": {},
     "output_type": "display_data"
    }
   ],
   "source": [
    "#!Solution\n",
    "D_Q = isl.Set(\"[N] -> {Q[i]: i mod 2 = 0 and 0 <= i < N}\")\n",
    "display_latex(D_Q)"
   ]
  },
  {
   "cell_type": "markdown",
   "id": "1d016224",
   "metadata": {},
   "source": [
    "## Handling Conditions\n",
    "Conditional constructs inside the loop also limit the iteration domain of the statements they enclose.\n",
    "The complex conjugate computation can also be re-written using a branch inside the unit-stride loop.\n",
    "```c\n",
    "const int N;\n",
    "double A[2*N];\n",
    "\n",
    "for (int i = 1; i < 2*N; ++i)\n",
    "    if (i % 2 == 1)\n",
    "P:    A[i] = -A[i];\n",
    "```\n",
    "The definition of the iteration domain should also include the constraint imposed by the branches surrounding the statement.\n",
    "\n",
    "### Question\n",
    "Define the set representing the iteration domain of `P` and print it."
   ]
  },
  {
   "cell_type": "code",
   "execution_count": 12,
   "id": "3cac8ece",
   "metadata": {},
   "outputs": [
    {
     "data": {
      "text/latex": [
       "$\\displaystyle N \\to \\{\\, \\mathrm{P}(i) \\mid (1 + i) \\bmod 2 = 0 \\wedge 0 \\le i < N \\,\\}$"
      ],
      "text/plain": [
       "<IPython.core.display.Math object>"
      ]
     },
     "metadata": {},
     "output_type": "display_data"
    }
   ],
   "source": [
    "#!Solution\n",
    "D_P = isl.Set(\"[N] -> {P[i]: i mod 2 = 1 and 0 <= i < N}\")\n",
    "display_latex(D_P)"
   ]
  },
  {
   "cell_type": "markdown",
   "id": "1d1120ad",
   "metadata": {},
   "source": [
    "Even though the set of statement instances are identical for `P` and `R`, these domains would be considered different *because of different statement names*.\n",
    "\n",
    "### Question\n",
    "What do you need to change in the definition of `D_P` to make it equal to `D_R`? \n",
    "Change it and check using `D_P.is_equal(D_R)`."
   ]
  },
  {
   "cell_type": "code",
   "execution_count": 13,
   "id": "dbe69dde",
   "metadata": {},
   "outputs": [
    {
     "name": "stdout",
     "output_type": "stream",
     "text": [
      "[N] -> { R[i] : (1 + i) mod 2 = 0 and 0 <= i < 2N }\n",
      "True\n"
     ]
    }
   ],
   "source": [
    "#!Solution\n",
    "D_P = isl.Set(\"[N] -> {R[i]: i mod 2 = 1 and 0 <= i < 2N}\")\n",
    "print(D_P)\n",
    "print(D_P.is_equal(D_R))"
   ]
  },
  {
   "cell_type": "markdown",
   "id": "3cb02113",
   "metadata": {},
   "source": [
    "## Iteration Domains as Presburger Sets\n",
    "Because *isl* operates on Presburger Sets, it can encode any iteration domain that can be expressed using Presburger formulas.\n",
    "This typically involves the statements surrounded by loops and branches with the so called *static control flow*.\n",
    "That is, loop bounds and branch conditions are Presburger formulas of outer loop bounds and parameters.\n",
    "The values of parameters are unknown but must be constant throughout the execution.\n",
    "As a corollary, the control flow cannot depend on *values* being computed.\n",
    "Hence the program parts amenable to the polyhedral modeling are referred to as *static control parts* or *SCoPs*.\n",
    "\n",
    "### Question\n",
    "Define the iteration domain of the only statement, enclosed in two loops and a branch with a disjunctive constraint.\n",
    "\n",
    "Hint: use the operator `or` and parentheses to ensure the precedence if necessary.\n",
    "```c\n",
    "for (int i = 0; i < 10; ++i)\n",
    "  for (int j = 0; j < 10; ++j)\n",
    "    if (i < j - 1 || i > j + 1)\n",
    "      Z[i][j] = 0.;\n",
    "```"
   ]
  },
  {
   "cell_type": "code",
   "execution_count": 14,
   "id": "2dc01768",
   "metadata": {},
   "outputs": [
    {
     "data": {
      "text/latex": [
       "$\\displaystyle \\{\\, (i, j) \\mid (i \\ge 0 \\wedge 2 + i \\le j \\le 9) \\vee (i \\le 9 \\wedge 0 \\le j \\le -2 + i) \\,\\}$"
      ],
      "text/plain": [
       "<IPython.core.display.Math object>"
      ]
     },
     "metadata": {},
     "output_type": "display_data"
    }
   ],
   "source": [
    "#!Solution\n",
    "D = isl.Set(\"{[i,j]: 0 <= i,j < 10 and (i < j - 1 or i > j + 1)}\")\n",
    "display_latex(D)"
   ]
  },
  {
   "cell_type": "markdown",
   "id": "50683aab",
   "metadata": {},
   "source": [
    "It is also possible to express certain common mathematical operations using the Presburger formulas\n",
    "\n",
    "* `i >= max(a,b)` $\\Leftrightarrow i \\geq a \\wedge i \\geq b$ (lower bound only)\n",
    "* `i <= min(a,b)` $\\Leftrightarrow i \\leq a \\wedge i \\leq b$ (upper bound only)\n",
    "* `a = ceil(b/c)` $\\Leftrightarrow a = \\lfloor (b - 1)/c \\rfloor + 1$"
   ]
  },
  {
   "cell_type": "markdown",
   "id": "432b5ead",
   "metadata": {},
   "source": [
    "## Putting Domains Together\n",
    "In summary, an iteration domain of a statement is a set of multidimensional vectors constrained by the affine expressions that appear in loop bounds and branch conditions surrounding the statement.\n",
    "\n",
    "Iteration domains of multiple statements live in different *spaces* due to different statement names, even if they are enclosed by the same loops.\n",
    "They can be managed together by putting them into a union set.  For example, the combined domain of\n",
    "```c\n",
    "for (int i = 0; i < 10; ++i)\n",
    "  for (int j = 0; j < 10; ++j) {\n",
    "    if (i < j - 1)\n",
    "S1:   Z[i][j] = 0.;\n",
    "    if (i > j + 1)\n",
    "S2:   Z[i][j] = 0.;\n",
    "  }\n",
    "```\n",
    "is defined as\n",
    "\\begin{align*}\n",
    "\\mathcal{D} &= \\{\\mathtt{S1}[i,j]: 0 \\leq i,j < 10 \\wedge i < j - 1 \\} \\cup \\\\\n",
    "            &\\quad\\quad \\{\\mathtt{S2}[i,j]: 0 \\leq i,j < 10 \\wedge i > j + 1 \\}\n",
    "\\end{align*}\n",
    "$$\n",
    "which translates to *isl* notation as"
   ]
  },
  {
   "cell_type": "code",
   "execution_count": 15,
   "id": "58e53ba4",
   "metadata": {},
   "outputs": [
    {
     "data": {
      "text/latex": [
       "$\\displaystyle \\begin{array}{l}\\{\\, \\mathrm{S2}(i, j) \\mid 0 \\le i \\le 10 \\wedge 0 \\le j \\le 10 \\wedge j \\le -2 + i \\,\\} \\cup\\\\\\quad \\{\\, \\mathrm{S1}(i, j) \\mid 0 \\le i \\le 10 \\wedge j \\ge 2 + i \\wedge 0 \\le j \\le 10 \\,\\}\\\\\\end{array}$"
      ],
      "text/plain": [
       "<IPython.core.display.Math object>"
      ]
     },
     "metadata": {},
     "output_type": "display_data"
    }
   ],
   "source": [
    "D = isl.UnionSet(\"{S1[i,j]: 0 <= i,j <= 10 and i < j - 1; S2[i,j]: 0 <= i,j <= 10 and i > j + 1}\")\n",
    "display_latex(D)"
   ]
  },
  {
   "cell_type": "markdown",
   "id": "7e3c04de",
   "metadata": {},
   "source": [
    "## Plotting Iteration Domains\n",
    "Polyhedral playground supports 1D and 2D plots of non-parametric sets.\n",
    "If the iteration domain has these properties, you can plot it immediately using"
   ]
  },
  {
   "cell_type": "code",
   "execution_count": 16,
   "id": "6dacc608",
   "metadata": {},
   "outputs": [
    {
     "data": {
      "image/png": "[encoded data removed]",
      "text/plain": [
       "<Figure size 640x480 with 1 Axes>"
      ]
     },
     "metadata": {},
     "output_type": "display_data"
    }
   ],
   "source": [
    "plot_uset(D)"
   ]
  },
  {
   "cell_type": "markdown",
   "id": "c0c0d373",
   "metadata": {},
   "source": [
    "visualizations can be useful to see the size of the domain or whether individual domains intersect.\n",
    "In this example, domains are completely disjoint, which means they can be traversed by separate loop nests.\n",
    "\n",
    "If the domain is parametric, you will have to first *fix* all parameter values to a constant by\n",
    "\n",
    "* creating a parametric set where a domain value is fixed;\n",
    "* intersecting your domain with this new set; and\n",
    "* projecting out the parameters.\n",
    "\n",
    "Here is how it can be done for `T` statement of our first example."
   ]
  },
  {
   "cell_type": "code",
   "execution_count": 17,
   "id": "aca283eb",
   "metadata": {},
   "outputs": [
    {
     "data": {
      "image/png": "[encoded data removed]",
      "text/plain": [
       "<Figure size 640x480 with 1 Axes>"
      ]
     },
     "metadata": {},
     "output_type": "display_data"
    }
   ],
   "source": [
    "fixer = isl.Set(\"[N] -> {T[i,j]: N = 5}\")\n",
    "D_T = D_T.intersect(fixer)\n",
    "D_T = D_T.project_out(isl.dim_type.param, 0, 1)\n",
    "plot_uset(D_T)"
   ]
  },
  {
   "cell_type": "markdown",
   "id": "d80795cf",
   "metadata": {},
   "source": [
    "The `isl.dim_type.param` means that you want to project out parameters, the two following numbers are the\n",
    "position of the first parameter and the number of consecutive parameters that will be projected out.\n",
    "For the sake of plotting, project out all of them. Note that if you forget to fix the parameter size, the set will become unbounded and cannot be plotted.\n",
    "\n",
    "Similarly to parameters, you can project out domain dimensions until you get at most two before plotting.\n",
    "Use `isl.dim_type.set` to get those.\n",
    "\n",
    "### Question\n",
    "In the following loop nest performing LU decomposition,\n",
    "\n",
    "```c\n",
    "for (i = 0; i < N; i++) {\n",
    "  for (j = 0; j < i; j++) {\n",
    "    for (k = 0; k < j; k++) {\n",
    "Sa:    A[i][j] -= A[i][k] * A[k][j];\n",
    "    }\n",
    "Sb: A[i][j] /= A[j][j];\n",
    "  }\n",
    "  for (j = i; j < N; j++) {\n",
    "    for (k = 0; k < i; k++) {\n",
    "Sc:   A[i][j] -= A[i][k] * A[k][j];\n",
    "    }\n",
    "  }\n",
    "}\n",
    "```\n",
    "\n",
    "1. Define the union set with all iteration domains.\n",
    "1. Check if iteration domains of `Sa` and `Sc` overlap.\n",
    "1. Plot projections on the domain on $(i,j)$, $(j,k)$.\n",
    "\n",
    "Hint: it is impossible to project out domain dimensions *directly* from the union set\n",
    "because it may have sets that live in different spaces.\n",
    "However, a union set may be constructed from sets, and you can take a union of union sets.\n"
   ]
  },
  {
   "cell_type": "code",
   "execution_count": 18,
   "id": "5eefee01",
   "metadata": {},
   "outputs": [
    {
     "data": {
      "text/latex": [
       "$\\displaystyle \\begin{array}{l}N \\to \\{\\, \\mathrm{Sc}(i, j, k) \\mid i \\ge 0 \\wedge i \\le j < N \\wedge 0 \\le k < i \\,\\} \\cup\\\\\\quad N \\to \\{\\, \\mathrm{Sa}(i, j, k) \\mid i < N \\wedge 0 \\le j < i \\wedge 0 \\le k < j \\,\\} \\cup\\\\\\quad N \\to \\{\\, \\mathrm{Sb}(i, j) \\mid 0 \\le i < N \\wedge 0 \\le j < i \\,\\}\\\\\\end{array}$"
      ],
      "text/plain": [
       "<IPython.core.display.Math object>"
      ]
     },
     "metadata": {},
     "output_type": "display_data"
    }
   ],
   "source": [
    "#!Solution\n",
    "D_Sa = isl.Set(\"[N] -> {Sa[i,j,k]: 0 <= i < N and 0 <= j < i and 0 <= k < j}\") \n",
    "D_Sb = isl.Set(\"[N] -> {Sb[i,j]: 0 <= i < N and 0 <= j < i}\")\n",
    "D_Sc = isl.Set(\"[N] -> {Sc[i,j,k]: 0 <= i < N and i <= j < N and 0 <= k < i}\")\n",
    "D = isl.UnionSet(D_Sa).union(D_Sb).union(D_Sc)\n",
    "display_latex(D)"
   ]
  },
  {
   "cell_type": "code",
   "execution_count": 19,
   "id": "85dc4adc",
   "metadata": {},
   "outputs": [
    {
     "name": "stdout",
     "output_type": "stream",
     "text": [
      "False\n"
     ]
    }
   ],
   "source": [
    "#!Solution\n",
    "D_Sa_notag = isl.Set(\"[N] -> {[i,j,k]: 0 <= i < N and 0 <= j < i and 0 <= k < j}\") \n",
    "D_Sc_notag = isl.Set(\"[N] -> {[i,j,k]: 0 <= i < N and i <= j < N and 0 <= k < i}\")\n",
    "print(not D_Sa_notag.intersect(D_Sc_notag).is_empty())"
   ]
  },
  {
   "cell_type": "code",
   "execution_count": 20,
   "id": "6332ed72",
   "metadata": {},
   "outputs": [
    {
     "data": {
      "image/png": "[encoded data removed]",
      "text/plain": [
       "<Figure size 640x480 with 1 Axes>"
      ]
     },
     "metadata": {},
     "output_type": "display_data"
    }
   ],
   "source": [
    "#!Solution\n",
    "D_Sa = D_Sa.intersect(isl.Set(\"[N] -> {Sa[i,j,k]: N = 8}\"))\n",
    "D_Sb = D_Sb.intersect(isl.Set(\"[N] -> {Sb[i,j]: N = 8}\"))\n",
    "D_Sc = D_Sc.intersect(isl.Set(\"[N] -> {Sc[i,j,k]: N = 8}\"))\n",
    "D_Sa = D_Sa.project_out(isl.dim_type.param, 0, 1)\n",
    "D_Sb = D_Sb.project_out(isl.dim_type.param, 0, 1)\n",
    "D_Sc = D_Sc.project_out(isl.dim_type.param, 0, 1)\n",
    "D_Sa = D_Sa.project_out(isl.dim_type.set, 2, 1)\n",
    "D_Sc = D_Sc.project_out(isl.dim_type.set, 2, 1)\n",
    "D = isl.UnionSet(D_Sa).union(D_Sb).union(D_Sc)\n",
    "plot_uset(D)"
   ]
  },
  {
   "cell_type": "code",
   "execution_count": null,
   "id": "2bbef8f1-76b0-490c-983b-c55a29951e3b",
   "metadata": {},
   "outputs": [],
   "source": []
  }
 ],
 "metadata": {
  "kernelspec": {
   "display_name": "Python 3 (ipykernel)",
   "language": "python",
   "name": "python3"
  },
  "language_info": {
   "codemirror_mode": {
    "name": "ipython",
    "version": 3
   },
   "file_extension": ".py",
   "mimetype": "text/x-python",
   "name": "python",
   "nbconvert_exporter": "python",
   "pygments_lexer": "ipython3",
   "version": "3.10.6"
  }
 },
 "nbformat": 4,
 "nbformat_minor": 5
}
