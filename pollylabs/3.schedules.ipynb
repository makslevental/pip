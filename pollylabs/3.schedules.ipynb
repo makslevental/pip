{
 "cells": [
  {
   "cell_type": "code",
   "execution_count": 1,
   "id": "698d32db-528c-4d85-ac5b-e1b3b32a6b77",
   "metadata": {},
   "outputs": [],
   "source": [
    "import islpy as isl\n",
    "from latex_op import display_latex\n",
    "from islplot_support import plot_uset, plot_umap"
   ]
  },
  {
   "cell_type": "markdown",
   "id": "63379be6",
   "metadata": {},
   "source": [
    "# Schedules\n",
    "\n",
    "$\\{ (i,j,k) \\to$ ⏰ $(i+j, k, i) \\}$\n"
   ]
  },
  {
   "cell_type": "markdown",
   "id": "0226ee24",
   "metadata": {},
   "source": [
    "## Definition\n",
    "The iteration domain of statements gives information about the *instances* to be executed but does not specify in which order.\n",
    "In fact, we can specify any piece-wise quasi-linear order by assigning logical execution dates to each statement instance.\n",
    "Concisely, this *schedule* can be expressed as a Presburger map between statement instances and logical dates.\n",
    "\n",
    "## Identity Schedule\n",
    "By default, statement instances are executed following the loop iteration order.\n",
    "This can be expressed using an *identity* schedule relation.\n",
    "\n",
    "For example, the simple initialization loop\n",
    "```c\n",
    "for (i = 0; i < N; ++i)\n",
    "S:  A[i] = 0.0;\n",
    "```\n",
    "with iteration domain\n",
    "\n",
    "$$\n",
    "\\mathcal{D}_\\mathtt{S} = [N] \\rightarrow \\{ \\mathtt{S}(i) : 0 \\leq i < N \\}\n",
    "$$\n",
    "\n",
    "can have an identity schedule\n",
    "\n",
    "$$\n",
    "\\mathcal{T}_\\mathtt{S} = [N] \\rightarrow \\{ \\mathtt{S}(i) \\rightarrow (t\\_0) : t\\_0 = i \\}\n",
    "$$\n",
    "\n",
    "In *isl* notation, this is expressed as"
   ]
  },
  {
   "cell_type": "code",
   "execution_count": 2,
   "id": "89a5ca11",
   "metadata": {},
   "outputs": [
    {
     "data": {
      "text/latex": [
       "$\\displaystyle N \\to \\{\\, \\mathrm{S}(i) \\to t0 = i \\,\\}$"
      ],
      "text/plain": [
       "<IPython.core.display.Math object>"
      ]
     },
     "metadata": {},
     "output_type": "display_data"
    }
   ],
   "source": [
    "D_S = isl.Set(\"[N] -> {S[i]: 0 <= i < N}\")\n",
    "T_S = isl.Map(\"[N] -> {S[i] -> [t0]: t0 = i}\")\n",
    "display_latex(T_S)"
   ]
  },
  {
   "cell_type": "markdown",
   "id": "daa917d7",
   "metadata": {},
   "source": [
    "## Multidimensional Schedules\n",
    "If a statement instance is identified by a vector of more than one element, i.e. the statement is enclosed in multiple nested loops,\n",
    "it is usually mapped to a *multidimensional* logical dates.\n",
    "In this case, the statement instances are executed following the *lexicographical order* of their logical dates.\n",
    "For example, the date $(0,42)$ precedes the date $(100,0)$.  We denote this as $(0,42) \\prec (100,0)$.\n",
    "The lexicographical order is usually extended to compare vectors of different size.\n",
    "A shorter vector that is a prefix of a longer vector precedes it, for example $(0,42) \\prec (0,42,0)$.\n",
    "\n",
    "For example, zero-initialization of a two-dimensional array\n",
    "```c\n",
    "for (i = 0; i < N; ++i)\n",
    "  for (j = 0; j < N; ++j)\n",
    "S:  A[i][j] = 0.0;\n",
    "```\n",
    "has the iteration domain\n",
    "\n",
    "$$\n",
    "\\mathcal{D}_\\mathtt{S} = [N] \\rightarrow \\{ \\mathtt{S}(i): 0 \\leq i,j < N \\}\n",
    "$$\n",
    "\n",
    "will have the identity schedule\n",
    "\n",
    "$$\n",
    "\\mathcal{T}_\\mathtt{S} = [N] \\rightarrow \\{ \\mathtt{S}(i,j) \\rightarrow (t_0, t_1) : t_0 = i \\wedge t\\_1 = j \\}\n",
    "$$\n",
    "\n",
    "In *isl* notation, this is expressed as"
   ]
  },
  {
   "cell_type": "code",
   "execution_count": 3,
   "id": "5605a6e2",
   "metadata": {},
   "outputs": [
    {
     "data": {
      "text/latex": [
       "$\\displaystyle N \\to \\{\\, \\mathrm{S}(i, j) \\to (t0 = i, t1 = j) \\,\\}$"
      ],
      "text/plain": [
       "<IPython.core.display.Math object>"
      ]
     },
     "metadata": {},
     "output_type": "display_data"
    }
   ],
   "source": [
    "D_S = isl.Set(\"[N] -> {S[i,j]: 0 <= i,j < N}\")\n",
    "T_S = isl.Map(\"[N] -> {S[i,j] -> [t0,t1]: t0 = i and t1 = j}\")\n",
    "display_latex(T_S)"
   ]
  },
  {
   "cell_type": "markdown",
   "id": "f856d886",
   "metadata": {},
   "source": [
    "Even if in theory the schedule can be expressed using a single dimension\n",
    "$$\n",
    "\\mathcal{T}_\\mathtt{S} = [N] \\rightarrow \\{ \\mathtt{S}(i,j) \\rightarrow (t_0) : t_0 = Ni + j \\} \n",
    "$$\n",
    "such expression cannot be represented as a Presburger map due to multiplication of the variables.\n",
    "However, such schedules can be constructed when the actual constant is used instead of a constant parameter."
   ]
  },
  {
   "cell_type": "markdown",
   "id": "6dd41dac",
   "metadata": {},
   "source": [
    "### Question\n",
    "Propose an identity schedule for the initialization loop of a three-dimensional array\n",
    "```c\n",
    "for (i = 0; i < N; ++i)\n",
    "  for (j = 0; j < N; ++j)\n",
    "    for (k = 0; k < N; ++k)\n",
    "T:    A[i][j] = 0.0;\n",
    "```"
   ]
  },
  {
   "cell_type": "code",
   "execution_count": 4,
   "id": "6bc10dc2",
   "metadata": {},
   "outputs": [
    {
     "data": {
      "text/latex": [
       "$\\displaystyle N \\to \\{\\, \\mathrm{S}(i, j, k) \\to (t0 = i, t1 = j, t2 = k) \\,\\}$"
      ],
      "text/plain": [
       "<IPython.core.display.Math object>"
      ]
     },
     "metadata": {},
     "output_type": "display_data"
    }
   ],
   "source": [
    "#!Solution\n",
    "D_T = isl.Set(\"[N] -> {S[i,j,k]: 0 <= i,j,k < N}\")\n",
    "T_T = isl.Map(\"[N] -> {S[i,j,k] -> [t0,t1,t2]: t0 = i and t1 = j and t2 = k}\")\n",
    "display_latex(T_T)"
   ]
  },
  {
   "cell_type": "markdown",
   "id": "34298936",
   "metadata": {},
   "source": [
    "### Question\n",
    "Try defining a one-dimensional schedule with multiplication for the same domain (error expected)."
   ]
  },
  {
   "cell_type": "code",
   "execution_count": 5,
   "id": "a8e45c8f",
   "metadata": {},
   "outputs": [
    {
     "ename": "Error",
     "evalue": "call to isl_map_read_from_str failed: syntax error in isl/isl_stream.c:140",
     "output_type": "error",
     "traceback": [
      "\u001b[0;31m---------------------------------------------------------------------------\u001b[0m",
      "\u001b[0;31mError\u001b[0m                                     Traceback (most recent call last)",
      "Cell \u001b[0;32mIn [5], line 2\u001b[0m\n\u001b[1;32m      1\u001b[0m \u001b[38;5;66;03m#!Solution\u001b[39;00m\n\u001b[0;32m----> 2\u001b[0m T_T_err \u001b[38;5;241m=\u001b[39m \u001b[43misl\u001b[49m\u001b[38;5;241;43m.\u001b[39;49m\u001b[43mMap\u001b[49m\u001b[43m(\u001b[49m\u001b[38;5;124;43m\"\u001b[39;49m\u001b[38;5;124;43m[N] -> \u001b[39;49m\u001b[38;5;124;43m{\u001b[39;49m\u001b[38;5;124;43mS[i,j,k] -> [t0]: t0 = N*N*i + N*j + k}\u001b[39;49m\u001b[38;5;124;43m\"\u001b[39;49m\u001b[43m)\u001b[49m\n",
      "File \u001b[0;32m~/dev_projects/pip/venv/lib/python3.10/site-packages/islpy/__init__.py:266\u001b[0m, in \u001b[0;36m_add_functionality.<locals>.obj_new\u001b[0;34m(cls, s, context)\u001b[0m\n\u001b[1;32m    263\u001b[0m \u001b[38;5;28;01mif\u001b[39;00m context \u001b[38;5;129;01mis\u001b[39;00m \u001b[38;5;28;01mNone\u001b[39;00m:\n\u001b[1;32m    264\u001b[0m     context \u001b[38;5;241m=\u001b[39m DEFAULT_CONTEXT\n\u001b[0;32m--> 266\u001b[0m result \u001b[38;5;241m=\u001b[39m \u001b[38;5;28;43mcls\u001b[39;49m\u001b[38;5;241;43m.\u001b[39;49m\u001b[43mread_from_str\u001b[49m\u001b[43m(\u001b[49m\u001b[43mcontext\u001b[49m\u001b[43m,\u001b[49m\u001b[43m \u001b[49m\u001b[43ms\u001b[49m\u001b[43m)\u001b[49m\n\u001b[1;32m    267\u001b[0m \u001b[38;5;28;01mreturn\u001b[39;00m result\n",
      "\u001b[0;31mError\u001b[0m: call to isl_map_read_from_str failed: syntax error in isl/isl_stream.c:140"
     ]
    }
   ],
   "source": [
    "#!Solution\n",
    "T_T_err = isl.Map(\"[N] -> {S[i,j,k] -> [t0]: t0 = N*N*i + N*j + k}\")"
   ]
  },
  {
   "cell_type": "markdown",
   "id": "e889e603",
   "metadata": {},
   "source": [
    "## Representing Lexical Order\n",
    "Consider the loop nest with two statements\n",
    "```c\n",
    "for (i = 0; i < 10; ++i) {\n",
    "P:  A[i] = 0.0;\n",
    "Q:  B[i] = 1.0;\n",
    "}\n",
    "```\n",
    "Using plain identity schedule for both statement would result in them having *identical* dates.\n",
    "Yet it is clear from the code that instances of `Q` are executed *after* the respective instances of `P`.\n",
    "This *lexical order* of the statements can be encoded in the schedule relations using an *auxiliary* dimension.\n",
    "It is assigned a constant so as to force instances of `P` to be executed before instances of `Q`,\n",
    "i.e. the constant for `P` is smaller than the one for `Q`.\n",
    "Because the order exists *inside* the loop, the auxiliary dimension is placed after the loop dimension.\n",
    "\n",
    "\\begin{align*}\n",
    "\\mathcal{T} &= \\{ P(i) \\rightarrow (t_0, t_1) : t_0 = i \\wedge t_1 = 0 \\} \\cup \\\\\n",
    "  &\\quad\\quad\\{ Q(i) \\rightarrow (t_0, t_1) : t_0 = i \\wedge t_1 = 1 \\} \n",
    "\\end{align*}\n",
    "\n",
    "This map will assign dates $(i,0)$ to the instances of `P` and dates $(i,1)$ to the instances of `Q`.\n",
    "It is clear that $\\forall i, (i,0) \\prec (i,1)$.\n",
    "In *isl*, schedules for different statements can be combined into a union map."
   ]
  },
  {
   "cell_type": "code",
   "execution_count": 6,
   "id": "6f043648",
   "metadata": {},
   "outputs": [
    {
     "data": {
      "text/latex": [
       "$\\displaystyle \\begin{array}{l}\\{\\, \\mathrm{Q}(i) \\to (t0 = i, t1 = 1) \\,\\} \\cup\\\\\\quad \\{\\, \\mathrm{P}(i) \\to (t0 = i, t1 = 0) \\,\\}\\\\\\end{array}$"
      ],
      "text/plain": [
       "<IPython.core.display.Math object>"
      ]
     },
     "metadata": {},
     "output_type": "display_data"
    }
   ],
   "source": [
    "D = isl.UnionSet(\"{P[i]: 0 <= i < 10; Q[i]: 0 <= i < 10}\")\n",
    "S = isl.UnionMap(\"{P[i] -> [t0,t1]: t0 = i and t1 = 0; Q[i] -> [t0,t1]: t0 = i and t1 = 1}\")\n",
    "display_latex(S)"
   ]
  },
  {
   "cell_type": "markdown",
   "id": "4a64b821",
   "metadata": {},
   "source": [
    "### \n",
    "Consider the SCoP with two loops\n",
    "```c\n",
    "for (i = 0; i < 10; ++i) {\n",
    "U:  A[i] = 0.0;\n",
    "}\n",
    "for (i = 0; i < 10; ++i) {\n",
    "V:  B[i] = 1.0;\n",
    "}\n",
    "```\n",
    "In this case, *all* instances of `U` are executed before *any* instance of `V`.\n",
    "Therefore, the auxiliary dimension is introduced *before* the loop dimension.\n",
    "\n",
    "\\begin{align*}\n",
    "\\mathcal{T} &= \\{ U(i) \\rightarrow (t_0, t_1) : t_0 = 0 \\wedge t_1 = i \\} \\cup \\\\\n",
    "  &\\quad\\quad\\{ V(i) \\rightarrow (t_0, t_1) : t_0 = 1 \\wedge t_1 = i \\} \n",
    "\\end{align*}\n",
    "\n",
    "Or, in *isl* notation"
   ]
  },
  {
   "cell_type": "code",
   "execution_count": 7,
   "id": "a2322c6b",
   "metadata": {},
   "outputs": [
    {
     "data": {
      "text/latex": [
       "$\\displaystyle \\begin{array}{l}\\{\\, \\mathrm{U}(i) \\to (t0 = 0, t1 = i) \\,\\} \\cup\\\\\\quad \\{\\, \\mathrm{V}(i) \\to (t0 = 1, t1 = i) \\,\\}\\\\\\end{array}$"
      ],
      "text/plain": [
       "<IPython.core.display.Math object>"
      ]
     },
     "metadata": {},
     "output_type": "display_data"
    }
   ],
   "source": [
    "D2 = isl.UnionSet(\"{U[i]: 0 <= i < 10; V[i]: 0 <= i < 10}\")\n",
    "S2 = isl.UnionMap(\"{U[i] -> [t0,t1]: t0 = 0 and t1 = i; V[i] -> [t0,t1]: t0 = 1 and t1 = i}\")\n",
    "display_latex(S2)"
   ]
  },
  {
   "cell_type": "markdown",
   "id": "6e4ecab1",
   "metadata": {},
   "source": [
    "Plotting the *scheduled domain* can help to see the difference."
   ]
  },
  {
   "cell_type": "code",
   "execution_count": 8,
   "id": "94236c82-7ee6-44e3-859e-55dbbee633db",
   "metadata": {},
   "outputs": [],
   "source": [
    "usets = [D.apply(S),D2.apply(S2)]"
   ]
  },
  {
   "cell_type": "code",
   "execution_count": 9,
   "id": "7ef7403d",
   "metadata": {},
   "outputs": [
    {
     "data": {
      "image/png": "[encoded data removed]",
      "text/plain": [
       "<Figure size 640x480 with 1 Axes>"
      ]
     },
     "metadata": {},
     "output_type": "display_data"
    }
   ],
   "source": [
    "plot_uset(usets[0])\n",
    "# plot_usets(get_set_list(usets[1]))"
   ]
  },
  {
   "cell_type": "code",
   "execution_count": 10,
   "id": "9eb2e6da-3b8c-4d0a-8062-402adab0c6b2",
   "metadata": {},
   "outputs": [
    {
     "data": {
      "image/png": "[encoded data removed]",
      "text/plain": [
       "<Figure size 640x480 with 1 Axes>"
      ]
     },
     "metadata": {},
     "output_type": "display_data"
    }
   ],
   "source": [
    "plot_uset(usets[1])"
   ]
  },
  {
   "cell_type": "markdown",
   "id": "c7cd2336",
   "metadata": {},
   "source": [
    "Note that the logical dates live in the *same* space for all statements, therefore one cannot tell them apart visually.\n",
    "\n",
    "### Question\n",
    "Generally, an auxiliary dimension is included *after* the last loop the statements share.\n",
    "If they do not share any loop, it comes foremost.\n",
    "Define the identity schedule with auxiliary dimensions for the SCoP.\n",
    "```c\n",
    "for (i = 0; i < 10; ++i) {\n",
    "  for (j = 0; j < 5; ++j)\n",
    "S1: A[i][j] = 0.;\n",
    "  for (j = 0; j < 5; ++j)\n",
    "S2: B[i][j] = 0.;\n",
    "}\n",
    "```"
   ]
  },
  {
   "cell_type": "code",
   "execution_count": 11,
   "id": "fc7b5652",
   "metadata": {},
   "outputs": [
    {
     "data": {
      "text/latex": [
       "$\\displaystyle \\begin{array}{l}\\{\\, \\mathrm{S1}(i, j) \\to (t0 = i, t1 = 0, t2 = j) \\,\\} \\cup\\\\\\quad \\{\\, \\mathrm{S2}(i, j) \\to (t0 = i, t1 = 1, t2 = j) \\,\\}\\\\\\end{array}$"
      ],
      "text/plain": [
       "<IPython.core.display.Math object>"
      ]
     },
     "metadata": {},
     "output_type": "display_data"
    }
   ],
   "source": [
    "#!Solution\n",
    "D = isl.UnionSet(\"{S1[i,j]: 0 <= i < 10 and 0 <= j < 5; S2[i,j]: 0 <= i < 10 and 0 <= j < 5}\")\n",
    "S = isl.UnionMap(\"{S1[i,j] -> [t0,t1,t2]: t0 = i and t1 = 0 and t2 = j; S2[i,j] -> [t0,t1,t2]: t0 = i and t1 = 1 and t2 = j}\")\n",
    "display_latex(S)"
   ]
  }
 ],
 "metadata": {
  "kernelspec": {
   "display_name": "Python 3 (ipykernel)",
   "language": "python",
   "name": "python3"
  },
  "language_info": {
   "codemirror_mode": {
    "name": "ipython",
    "version": 3
   },
   "file_extension": ".py",
   "mimetype": "text/x-python",
   "name": "python",
   "nbconvert_exporter": "python",
   "pygments_lexer": "ipython3",
   "version": "3.10.6"
  }
 },
 "nbformat": 4,
 "nbformat_minor": 5
}
