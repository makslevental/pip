{
 "cells": [
  {
   "cell_type": "code",
   "execution_count": 1,
   "id": "1770fee2-d238-4776-bc5d-aabae71f33fc",
   "metadata": {},
   "outputs": [],
   "source": [
    "import islpy as isl\n",
    "from latex_op import display_latex\n",
    "from islplot_support import print_before_after"
   ]
  },
  {
   "cell_type": "markdown",
   "id": "39adfcfd",
   "metadata": {},
   "source": [
    "# Classical Loop Transformations"
   ]
  },
  {
   "cell_type": "markdown",
   "id": "0fbf1810",
   "metadata": {},
   "source": [
    "### Setup AST generation infrastructure"
   ]
  },
  {
   "cell_type": "markdown",
   "id": "a87f144c",
   "metadata": {},
   "source": [
    "## Loop Reversal\n",
    "\n",
    "Loop reversal changes the direction in which elements of a loop are visited. After loop reversal, the previous first loop iteration is executed last and the previous last loop iteration is executed first.\n",
    "\n",
    "**Benefits**:\n",
    "- Can be used to shorten dependences"
   ]
  },
  {
   "cell_type": "code",
   "execution_count": 2,
   "id": "c3be8361",
   "metadata": {},
   "outputs": [
    {
     "name": "stdout",
     "output_type": "stream",
     "text": [
      "Before Transform:\n",
      "\n",
      "for (int c0 = 0; c0 < n; c0 += 1)\n",
      "  S(c0);\n",
      "\n",
      "After Transform:\n",
      "\n",
      "for (int c0 = -n + 1; c0 <= 0; c0 += 1)\n",
      "  S(-c0);\n",
      "\n"
     ]
    }
   ],
   "source": [
    "domain = isl.UnionSet(\"[n] -> {S[i] : 0 <= i < n}\")\n",
    "original = isl.UnionMap(\"{S[i] -> [i]}\")\n",
    "transformation = isl.UnionMap(\"{[i] -> [-i]}\")\n",
    "\n",
    "transformed = original.apply_range(transformation)\n",
    "print_before_after(domain, original, transformed)"
   ]
  },
  {
   "cell_type": "markdown",
   "id": "42d89745",
   "metadata": {},
   "source": [
    "# Loop Fusion\n",
    "\n",
    "After Loop fusion two statements that have previously been enumerated by different loops are\n",
    "now enumerated by a single loop.\n",
    "\n",
    "**Benefits:**\n",
    "  - Improves data-locality\n"
   ]
  },
  {
   "cell_type": "code",
   "execution_count": 3,
   "id": "4124c97e",
   "metadata": {},
   "outputs": [
    {
     "name": "stdout",
     "output_type": "stream",
     "text": [
      "Before Transform:\n",
      "\n",
      "{\n",
      "  for (int c1 = 0; c1 <= n; c1 += 1)\n",
      "    S(c1);\n",
      "  for (int c1 = 0; c1 <= n; c1 += 1)\n",
      "    T(c1);\n",
      "}\n",
      "\n",
      "After Transform:\n",
      "\n",
      "for (int c0 = 0; c0 <= n; c0 += 1) {\n",
      "  S(c0);\n",
      "  T(c0);\n",
      "}\n",
      "\n"
     ]
    }
   ],
   "source": [
    "domain = isl.UnionSet(\"[n] -> {S[i] : 0 <= i <= n; T[i] : 0 <= i <= n}\")\n",
    "original = isl.UnionMap(\"{S[i] -> [0, i]; T[i] -> [1, i]}\")\n",
    "transformation = isl.UnionMap(\"{[0, i] -> [i,0]; [1, i] -> [i, 1]}\")\n",
    "transformed = original.apply_range(transformation)\n",
    "print_before_after(domain, original, transformed)"
   ]
  },
  {
   "cell_type": "markdown",
   "id": "0fb30792",
   "metadata": {},
   "source": [
    "# Loop Fission (Loop Distribution)\n",
    "\n",
    "Loop fission takes two statements that have been originally executed in the same\n",
    "loop and distributes them to two separate loops.\n",
    "\n",
    "**Benefits:**\n",
    " - Reduces register pressure\n",
    " - Enables other transformations, i.e. SIMDization in case only one of\n",
    "   the two statements in a loop body allows for parallel execution."
   ]
  },
  {
   "cell_type": "code",
   "execution_count": 4,
   "id": "ca590fc0",
   "metadata": {},
   "outputs": [
    {
     "name": "stdout",
     "output_type": "stream",
     "text": [
      "Before Transform:\n",
      "\n",
      "for (int c0 = 0; c0 <= n; c0 += 1) {\n",
      "  S(c0);\n",
      "  T(c0);\n",
      "}\n",
      "\n",
      "After Transform:\n",
      "\n",
      "{\n",
      "  for (int c1 = 0; c1 <= n; c1 += 1)\n",
      "    S(c1);\n",
      "  for (int c1 = 0; c1 <= n; c1 += 1)\n",
      "    T(c1);\n",
      "}\n",
      "\n"
     ]
    }
   ],
   "source": [
    "domain = isl.UnionSet(\"[n] -> {S[i] : 0 <= i <= n; T[i] : 0 <= i <= n}\")\n",
    "original = isl.UnionMap(\"{S[i] -> [i, 0]; T[i] -> [i, 1]}\")\n",
    "transformation = isl.UnionMap(\"{[i, 0] -> [0, i]; [i, 1] -> [1, i]}\")\n",
    "\n",
    "transformed = original.apply_range(transformation)\n",
    "print_before_after(domain, original, transformed)"
   ]
  },
  {
   "cell_type": "markdown",
   "id": "8bd403e7",
   "metadata": {},
   "source": [
    "# Loop Interchange"
   ]
  },
  {
   "cell_type": "code",
   "execution_count": 5,
   "id": "afdf28de",
   "metadata": {},
   "outputs": [
    {
     "name": "stdout",
     "output_type": "stream",
     "text": [
      "Before Transform:\n",
      "\n",
      "for (int c0 = 0; c0 <= n; c0 += 1)\n",
      "  for (int c1 = 0; c1 <= m; c1 += 1)\n",
      "    S(c0, c1);\n",
      "\n",
      "After Transform:\n",
      "\n",
      "for (int c0 = 0; c0 <= m; c0 += 1)\n",
      "  for (int c1 = 0; c1 <= n; c1 += 1)\n",
      "    S(c1, c0);\n",
      "\n"
     ]
    }
   ],
   "source": [
    "domain = isl.UnionSet(\"[n,m] -> {S[i,j] : 0 <= i <= n and 0 <= j <= m }\")\n",
    "original = isl.UnionMap(\"{S[i,j] -> [i, j]}\")\n",
    "transformation = isl.UnionMap(\"{[i, j] -> [j, i]}\")\n",
    "\n",
    "transformed = original.apply_range(transformation)\n",
    "print_before_after(domain, original, transformed)"
   ]
  },
  {
   "cell_type": "markdown",
   "id": "add6f612",
   "metadata": {},
   "source": [
    "# Strip Mining\n",
    "\n",
    "Strip mining partitions a single loop into chunks that are enumerated by two loops.\n",
    "An outer loop enumerates the individual blocks, whereas the inner loop enumerates\n",
    "the individual iterations that belong to each block.\n",
    "\n",
    "**Benefits:**\n",
    " - Building block for loop tiling and unroll-and-jam."
   ]
  },
  {
   "cell_type": "code",
   "execution_count": 6,
   "id": "ff2f90cc",
   "metadata": {},
   "outputs": [
    {
     "name": "stdout",
     "output_type": "stream",
     "text": [
      "Before Transform:\n",
      "\n",
      "for (int c0 = 0; c0 <= 1023; c0 += 1)\n",
      "  S(c0);\n",
      "\n",
      "After Transform:\n",
      "\n",
      "for (int c0 = 0; c0 <= 255; c0 += 1)\n",
      "  for (int c1 = 0; c1 <= 3; c1 += 1)\n",
      "    S(4 * c0 + c1);\n",
      "\n"
     ]
    }
   ],
   "source": [
    "domain = isl.UnionSet(\"{S[i] : 0 <= i < 1024 }\")\n",
    "original = isl.UnionMap(\"{S[i] -> [i]}\")\n",
    "transformation = isl.UnionMap(\"{[i] -> [floor(i/4), i % 4]}\")\n",
    "\n",
    "transformed = original.apply_range(transformation)\n",
    "print_before_after(domain, original, transformed)"
   ]
  },
  {
   "cell_type": "markdown",
   "id": "10516a1d",
   "metadata": {},
   "source": [
    "# Loop Tiling\n",
    "\n",
    "Loop tiling partitions the execution of a multi-dimensional loop into groups, the tiles.\n",
    "First a set of outer loops enumerate all tiles that must be executed and for each tile\n",
    "a set of inner loops, the point loops, enumerates the individual points of the tile.\n",
    "\n",
    "**Benefits:**\n",
    " - Increased data-locality\n",
    " - More coarse-grained parallelism"
   ]
  },
  {
   "cell_type": "code",
   "execution_count": 7,
   "id": "b37d8cb6",
   "metadata": {},
   "outputs": [
    {
     "name": "stdout",
     "output_type": "stream",
     "text": [
      "Before Transform:\n",
      "\n",
      "for (int c0 = 0; c0 <= 1023; c0 += 1)\n",
      "  for (int c1 = 0; c1 <= 1023; c1 += 1)\n",
      "    S(c0, c1);\n",
      "\n",
      "After Transform:\n",
      "\n",
      "for (int c0 = 0; c0 <= 255; c0 += 1)\n",
      "  for (int c1 = 0; c1 <= 3; c1 += 1)\n",
      "    for (int c2 = 0; c2 <= 255; c2 += 1)\n",
      "      for (int c3 = 0; c3 <= 3; c3 += 1)\n",
      "        S(4 * c0 + c1, 4 * c2 + c3);\n",
      "\n"
     ]
    }
   ],
   "source": [
    "domain = isl.UnionSet(\"{S[i,j] : 0 <= i,j < 1024 }\")\n",
    "original = isl.UnionMap(\"{S[i,j] -> [i,j]}\")\n",
    "transformation = isl.UnionMap(\"{[i,j] -> [floor(i/4), i % 4, floor(j/4), j % 4]}\")\n",
    "\n",
    "transformed = original.apply_range(transformation)\n",
    "print_before_after(domain, original, transformed)"
   ]
  },
  {
   "cell_type": "markdown",
   "id": "e4649472",
   "metadata": {},
   "source": [
    "# Unroll-and-jam\n",
    "\n",
    "Unroll-and-jam is a combination of strip-mining of the outer loop into a\n",
    "tile and point loop and then an interchange of the new point loop with\n",
    "the innermost loop dimension.\n",
    "\n",
    "**Benefits:**\n",
    " - Enables outer loop vectorization"
   ]
  },
  {
   "cell_type": "code",
   "execution_count": 8,
   "id": "76d1e1b9",
   "metadata": {},
   "outputs": [
    {
     "name": "stdout",
     "output_type": "stream",
     "text": [
      "Before Transform:\n",
      "\n",
      "for (int c0 = 0; c0 <= 1023; c0 += 1)\n",
      "  for (int c1 = 0; c1 <= 1023; c1 += 1)\n",
      "    S(c0, c1);\n",
      "\n",
      "After Transform:\n",
      "\n",
      "for (int c0 = 0; c0 <= 255; c0 += 1)\n",
      "  for (int c1 = 0; c1 <= 1023; c1 += 1)\n",
      "    for (int c2 = 0; c2 <= 3; c2 += 1)\n",
      "      S(4 * c0 + c2, c1);\n",
      "\n"
     ]
    }
   ],
   "source": [
    "domain = isl.UnionSet(\"{S[i,j] : 0 <= i,j < 1024 }\")\n",
    "original = isl.UnionMap(\"{S[i,j] -> [i,j]}\")\n",
    "transformation = isl.UnionMap(\"{[i,j] -> [floor(i/4), j, i % 4] }\")\n",
    "\n",
    "transformed = original.apply_range(transformation)\n",
    "print_before_after(domain, original, transformed)"
   ]
  },
  {
   "cell_type": "markdown",
   "id": "a1bbca77",
   "metadata": {},
   "source": [
    "# Skewing\n"
   ]
  },
  {
   "cell_type": "code",
   "execution_count": 9,
   "id": "b715bd5d",
   "metadata": {},
   "outputs": [
    {
     "name": "stdout",
     "output_type": "stream",
     "text": [
      "Before Transform:\n",
      "\n",
      "for (int c0 = 0; c0 < n; c0 += 1)\n",
      "  for (int c1 = 0; c1 < n; c1 += 1)\n",
      "    S(c0, c1);\n",
      "\n",
      "After Transform:\n",
      "\n",
      "for (int c0 = 0; c0 < n; c0 += 1)\n",
      "  for (int c1 = c0; c1 < n + c0; c1 += 1)\n",
      "    S(c0, -c0 + c1);\n",
      "\n"
     ]
    }
   ],
   "source": [
    "domain = isl.UnionSet(\"[n] -> {S[i,j] : 0 <= i,j < n }\")\n",
    "original = isl.UnionMap(\"{S[i,j] -> [i,j]}\")\n",
    "transformation = isl.UnionMap(\"{[i,j] -> [i, i + j]}\")\n",
    "\n",
    "transformed = original.apply_range(transformation)\n",
    "print_before_after(domain, original, transformed)"
   ]
  }
 ],
 "metadata": {
  "kernelspec": {
   "display_name": "Python 3 (ipykernel)",
   "language": "python",
   "name": "python3"
  },
  "language_info": {
   "codemirror_mode": {
    "name": "ipython",
    "version": 3
   },
   "file_extension": ".py",
   "mimetype": "text/x-python",
   "name": "python",
   "nbconvert_exporter": "python",
   "pygments_lexer": "ipython3",
   "version": "3.10.6"
  }
 },
 "nbformat": 4,
 "nbformat_minor": 5
}
